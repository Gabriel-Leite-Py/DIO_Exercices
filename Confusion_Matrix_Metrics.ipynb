{
  "nbformat": 4,
  "nbformat_minor": 0,
  "metadata": {
    "colab": {
      "provenance": [],
      "authorship_tag": "ABX9TyPvsXCKdKnxAEK+SNxKsXB4",
      "include_colab_link": true
    },
    "kernelspec": {
      "name": "python3",
      "display_name": "Python 3"
    },
    "language_info": {
      "name": "python"
    }
  },
  "cells": [
    {
      "cell_type": "markdown",
      "metadata": {
        "id": "view-in-github",
        "colab_type": "text"
      },
      "source": [
        "<a href=\"https://colab.research.google.com/github/Gabriel-Leite-Py/DIO_Exercices/blob/main/Confusion_Matrix_Metrics.ipynb\" target=\"_parent\"><img src=\"https://colab.research.google.com/assets/colab-badge.svg\" alt=\"Open In Colab\"/></a>"
      ]
    },
    {
      "cell_type": "markdown",
      "source": [
        "# Confusion Matrix Metrics\n",
        "This Python script utilizes the TensorFlow and Keras libraries to conduct a comprehensive analysis of the performance of a deep learning model trained on the MNIST dataset. The code begins by loading and preprocessing the data, normalizing pixel values to a scale between 0 and 1. It then defines and trains a simple convolutional model with Conv2D, MaxPooling2D, and Dense layers.\n",
        "\n",
        "Following training, the script evaluates the model using metrics commonly associated with confusion matrices. It generates predictions for the test set and calculates the normalized confusion matrix. This matrix is then transformed into a Pandas DataFrame for clearer visualization using the seaborn and matplotlib libraries.\n",
        "\n",
        "In addition to standard metrics such as Sensitivity and Precision, the script computes additional metrics like Specificity, Accuracy, and F-Score. These metrics provide a comprehensive understanding of the model's performance in terms of true and false positives and negatives.\n",
        "\n",
        "Towards the end of the script, the metrics are printed with precise control over the number of decimal places, offering a detailed insight into the model's performance across various aspects. This code is versatile and can be adapted to assess both binary and multiclass classification models, providing a useful tool for performance analysis in classification tasks."
      ],
      "metadata": {
        "id": "jNJcCjKX0cTc"
      }
    },
    {
      "cell_type": "code",
      "execution_count": 1,
      "metadata": {
        "id": "aOlHBfMczqVU"
      },
      "outputs": [],
      "source": [
        "from tensorflow.keras import datasets, layers, models\n",
        "import matplotlib.pyplot as plt\n",
        "import tensorflow as tf\n",
        "import numpy as np\n",
        "import seaborn as sns\n",
        "import pandas as pd"
      ]
    },
    {
      "cell_type": "code",
      "source": [
        "(train_images, train_labels), (test_images, test_labels) = datasets.mnist.load_data()\n",
        "\n",
        "train_images = train_images.reshape((60000, 28, 28, 1))\n",
        "test_images = test_images.reshape((10000, 28, 28, 1))\n",
        "\n",
        "train_images, test_images = train_images / 255.0, test_images / 255.0\n",
        "\n",
        "classes = [0,1,2,3,4,5,6,7,8,9]"
      ],
      "metadata": {
        "id": "E27TfpYMz9UO"
      },
      "execution_count": 4,
      "outputs": []
    },
    {
      "cell_type": "code",
      "source": [
        "model = models.Sequential()\n",
        "model.add(layers.Conv2D(32, (3,3), activation='relu', input_shape=(28, 28, 1)))\n",
        "model.add(layers.MaxPooling2D((2,2)))\n",
        "model.add(layers.Conv2D(64, (3,3), activation='relu'))\n",
        "model.add(layers.MaxPooling2D((2,2)))\n",
        "model.add(layers.Conv2D(64, (3,3), activation='relu'))\n",
        "\n",
        "model.add(layers.Flatten())\n",
        "model.add(layers.Dense(64, activation='relu'))\n",
        "model.add(layers.Dense(10, activation='softmax'))"
      ],
      "metadata": {
        "id": "S_ozTqWWsEWT"
      },
      "execution_count": 6,
      "outputs": []
    },
    {
      "cell_type": "code",
      "source": [
        "logdir = \"logs/\"\n",
        "tensorboard_callback = tf.keras.callbacks.TensorBoard(log_dir=logdir, histogram_freq=1)"
      ],
      "metadata": {
        "id": "DlhS7FzEtBnk"
      },
      "execution_count": 11,
      "outputs": []
    },
    {
      "cell_type": "code",
      "source": [
        "model.compile(optimizer='adam',\n",
        "              loss='sparse_categorical_crossentropy',\n",
        "              metrics=['accuracy'])\n",
        "\n",
        "model.fit(x=train_images,\n",
        "          y=train_labels,\n",
        "          epochs=5,\n",
        "          validation_data=(test_images, test_labels))"
      ],
      "metadata": {
        "id": "7EHNQUM1txxj"
      },
      "execution_count": null,
      "outputs": []
    },
    {
      "cell_type": "code",
      "source": [
        "y_true = test_labels\n",
        "\n",
        "y_pred_probs = model.predict(test_images)\n",
        "y_pred = np.argmax(y_pred_probs, axis=1)"
      ],
      "metadata": {
        "colab": {
          "base_uri": "https://localhost:8080/"
        },
        "id": "0TaohRbsuQP6",
        "outputId": "6cd7067f-61a2-4926-ee9f-99f2d6452a73"
      },
      "execution_count": 17,
      "outputs": [
        {
          "output_type": "stream",
          "name": "stdout",
          "text": [
            "313/313 [==============================] - 4s 11ms/step\n"
          ]
        }
      ]
    },
    {
      "cell_type": "code",
      "source": [
        "classes=[0,1,2,3,4,5,6,7,8,9]"
      ],
      "metadata": {
        "id": "zVyaUsmDuVuj"
      },
      "execution_count": 18,
      "outputs": []
    },
    {
      "cell_type": "code",
      "source": [
        "con_mat = tf.math.confusion_matrix(labels = y_true, predictions = y_pred).numpy()\n",
        "cont_mat_norm = np.around(con_mat.astype('float') / con_mat.sum(axis=1)[:,np.newaxis], decimals=2)\n",
        "\n",
        "con_mat_df = pd.DataFrame(cont_mat_norm,\n",
        "                          index = classes,\n",
        "                          columns = classes)\n",
        "\n",
        "figure = plt.figure(figsize=(8,8))\n",
        "sns.heatmap(con_mat_df, annot=True, cmap=plt.cm.Blues)\n",
        "plt.tight_layout()\n",
        "plt.ylabel('True label')\n",
        "plt.xlabel('Predicted label')\n",
        "plt.show()"
      ],
      "metadata": {
        "colab": {
          "base_uri": "https://localhost:8080/",
          "height": 826
        },
        "id": "r8fb2KH1uYz7",
        "outputId": "f7dadf78-28dc-4a42-9384-2922d9432920"
      },
      "execution_count": 20,
      "outputs": [
        {
          "output_type": "display_data",
          "data": {
            "text/plain": [
              "<Figure size 800x800 with 2 Axes>"
            ],
            "image/png": "[encoded data removed]"
          },
          "metadata": {}
        }
      ]
    },
    {
      "cell_type": "code",
      "source": [
        "VP = con_mat[1, 1]  # Verdadeiro Positivo\n",
        "FP = con_mat[0, 1]  # Falso Positivo\n",
        "FN = con_mat[1, 0]  # Falso Negativo\n",
        "VN = con_mat[0, 0]  # Verdadeiro Negativo\n",
        "sensibilidade = VP / (VP + FN)\n",
        "precisao = VP / (VP + FP)\n",
        "especificidade = VN / (FP + VN)\n",
        "acuracia = (VP+VN) / (VP+VN+FP+FN)\n",
        "f_score = 2 * (precisao * sensibilidade) / (precisao + sensibilidade)"
      ],
      "metadata": {
        "id": "UP2ktXMax1mB"
      },
      "execution_count": 43,
      "outputs": []
    },
    {
      "cell_type": "code",
      "source": [
        "\"\"\"\n",
        "print(f'VP: {VP:.0f}')\n",
        "print(f'VN: {VN:.0f}')\n",
        "print(f'FP: {FP:.0f}')\n",
        "print(f'FN: {FN:.0f}')\n",
        "\"\"\"\n",
        "print(f'Sensibilidade: {sensibilidade:.3f}')\n",
        "print(f'Especificidade: {especificidade:.3f}')\n",
        "print(f'Acurácia: {acuracia:.5f}')\n",
        "print(f'Precisao: {precisao:.5f}')\n",
        "print(f'F-score: {f_score:.5f}')"
      ],
      "metadata": {
        "colab": {
          "base_uri": "https://localhost:8080/"
        },
        "id": "_f6_5SW7yDdC",
        "outputId": "d09e4380-5c32-4bab-bdd8-8922fbc6f716"
      },
      "execution_count": 45,
      "outputs": [
        {
          "output_type": "stream",
          "name": "stdout",
          "text": [
            "Sensibilidade: 1.000\n",
            "Especificidade: 0.999\n",
            "Acurácia: 0.99953\n",
            "Precisao: 0.99912\n",
            "F-score: 0.99956\n"
          ]
        }
      ]
    }
  ]
}